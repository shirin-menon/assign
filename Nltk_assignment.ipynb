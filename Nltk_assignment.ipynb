{
  "nbformat": 4,
  "nbformat_minor": 0,
  "metadata": {
    "colab": {
      "name": "Nltk-assignment.ipynb",
      "provenance": [],
      "collapsed_sections": [],
      "authorship_tag": "ABX9TyMamQfzCslPoOAfEWvc8tS6",
      "include_colab_link": true
    },
    "kernelspec": {
      "name": "python3",
      "display_name": "Python 3"
    }
  },
  "cells": [
    {
      "cell_type": "markdown",
      "metadata": {
        "id": "view-in-github",
        "colab_type": "text"
      },
      "source": [
        "<a href=\"https://colab.research.google.com/github/shirin-menon/assign/blob/main/Nltk_assignment.ipynb\" target=\"_parent\"><img src=\"https://colab.research.google.com/assets/colab-badge.svg\" alt=\"Open In Colab\"/></a>"
      ]
    },
    {
      "cell_type": "code",
      "metadata": {
        "colab": {
          "base_uri": "https://localhost:8080/"
        },
        "id": "pnRya6IHReCM",
        "outputId": "1ef3df69-c5c9-45ca-e5d7-5189b1c4ad08"
      },
      "source": [
        " \n",
        "import nltk\n",
        "nltk.download('punkt')\n",
        "text= ''' \n",
        "Joe waited for the train. The train was late. \n",
        "Mary and Samantha took the bus.\n",
        "I looked for Mary and Samantha at the bus station.\n",
        "'''\n",
        "print(\"\\nOriginal text\")\n",
        "print(text)\n",
        "from nltk.tokenize import sent_tokenize\n",
        "tokentxt=sent_tokenize(text)\n",
        "print(\"\\n sentence tokenized copied in a list\")\n",
        "print(tokentxt)\n",
        "print(\"\\n Reading list\")\n",
        "for i in tokentxt:\n",
        "   print(i)"
      ],
      "execution_count": null,
      "outputs": [
        {
          "output_type": "stream",
          "text": [
            "[nltk_data] Downloading package punkt to /root/nltk_data...\n",
            "[nltk_data]   Unzipping tokenizers/punkt.zip.\n",
            "\n",
            "Original text\n",
            " \n",
            "Joe waited for the train. The train was late. \n",
            "Mary and Samantha took the bus.\n",
            "I looked for Mary and Samantha at the bus station.\n",
            "\n",
            "\n",
            " sentence tokenized copied in a list\n",
            "[' \\nJoe waited for the train.', 'The train was late.', 'Mary and Samantha took the bus.', 'I looked for Mary and Samantha at the bus station.']\n",
            "\n",
            " Reading list\n",
            " \n",
            "Joe waited for the train.\n",
            "The train was late.\n",
            "Mary and Samantha took the bus.\n",
            "I looked for Mary and Samantha at the bus station.\n"
          ],
          "name": "stdout"
        }
      ]
    },
    {
      "cell_type": "code",
      "metadata": {
        "colab": {
          "base_uri": "https://localhost:8080/"
        },
        "id": "nG1bcDAAUhrJ",
        "outputId": "b736ee80-cfc7-44e7-84f8-35d432ec4965"
      },
      "source": [
        "text= '''\n",
        "NLTK ist Open Source Software. Der Quellcode wird unter den Bedingungen der Apache License Version 2.0 vertriben.\n",
        "Die Dokumentation wird untet den Bedingungen der Creative Commons-Lizenz Namensnennung - Nicht kommerziell - Keine\n",
        "abgeleiteten Werke 3.0 in den Vereinigten Staaten verteilt.\n",
        "'''\n",
        "print(\"\\nOriginal text\")\n",
        "print(text)\n",
        "from nltk.tokenize import sent_tokenize\n",
        "tkntxt=sent_tokenize(text, language = 'german')\n",
        "print(\"\\nsentence tokenize copy in a list\")\n",
        "print(tkntxt)\n",
        "print(\"\\nReading list\")\n",
        "for i in tkntxt:\n",
        "     print(i)"
      ],
      "execution_count": null,
      "outputs": [
        {
          "output_type": "stream",
          "text": [
            "\n",
            "Original text\n",
            "\n",
            "NLTK ist Open Source Software. Der Quellcode wird unter den Bedingungen der Apache License Version 2.0 vertriben.\n",
            "Die Dokumentation wird untet den Bedingungen der Creative Commons-Lizenz Namensnennung - Nicht kommerziell - Keine\n",
            "abgeleiteten Werke 3.0 in den Vereinigten Staaten verteilt.\n",
            "\n",
            "\n",
            "sentence tokenize copy in a list\n",
            "['\\nNLTK ist Open Source Software.', 'Der Quellcode wird unter den Bedingungen der Apache License Version 2.0 vertriben.', 'Die Dokumentation wird untet den Bedingungen der Creative Commons-Lizenz Namensnennung - Nicht kommerziell - Keine\\nabgeleiteten Werke 3.0 in den Vereinigten Staaten verteilt.']\n",
            "\n",
            "Reading list\n",
            "\n",
            "NLTK ist Open Source Software.\n",
            "Der Quellcode wird unter den Bedingungen der Apache License Version 2.0 vertriben.\n",
            "Die Dokumentation wird untet den Bedingungen der Creative Commons-Lizenz Namensnennung - Nicht kommerziell - Keine\n",
            "abgeleiteten Werke 3.0 in den Vereinigten Staaten verteilt.\n"
          ],
          "name": "stdout"
        }
      ]
    },
    {
      "cell_type": "code",
      "metadata": {
        "colab": {
          "base_uri": "https://localhost:8080/"
        },
        "id": "zQdDtPULZ5AM",
        "outputId": "6b139e8e-7913-4396-bad0-b08e72080792"
      },
      "source": [
        "import nltk\n",
        "from nltk.tokenize import word_tokenize\n",
        "text= \"Joe waited for the train. The train was late. Mary and Samantha took the bus. I looked for Mary and Samantha at the bus station.\"\n",
        "print(\"\\nOriginal text\")\n",
        "print(text)\n",
        "print(\"\\nList of words\")\n",
        "print(word_tokenize(text))"
      ],
      "execution_count": null,
      "outputs": [
        {
          "output_type": "stream",
          "text": [
            "\n",
            "Original text\n",
            "Joe waited for the train. The train was late. Mary and Samantha took the bus. I looked for Mary and Samantha at the bus station.\n",
            "\n",
            "List of words\n",
            "['Joe', 'waited', 'for', 'the', 'train', '.', 'The', 'train', 'was', 'late', '.', 'Mary', 'and', 'Samantha', 'took', 'the', 'bus', '.', 'I', 'looked', 'for', 'Mary', 'and', 'Samantha', 'at', 'the', 'bus', 'station', '.']\n"
          ],
          "name": "stdout"
        }
      ]
    },
    {
      "cell_type": "code",
      "metadata": {
        "colab": {
          "base_uri": "https://localhost:8080/"
        },
        "id": "qnmkfjvibNgM",
        "outputId": "6a8479f4-37cb-469f-b636-23d9ff3350d2"
      },
      "source": [
        "import nltk\n",
        "from nltk.tokenize import WordPunctTokenizer\n",
        "text=\"Reset your password if you just can't remember your old one.\"\n",
        "print(\"\\nOriginal text\")\n",
        "print(text)\n",
        "res=WordPunctTokenizer().tokenize(text)\n",
        "print(\"\\nSplitting all punctuations into separate tokens\")\n",
        "print(res)"
      ],
      "execution_count": null,
      "outputs": [
        {
          "output_type": "stream",
          "text": [
            "\n",
            "Original text\n",
            "Reset your password if you just can't remember your old one.\n",
            "\n",
            "Splitting all punctuations into separate tokens\n",
            "['Reset', 'your', 'password', 'if', 'you', 'just', 'can', \"'\", 't', 'remember', 'your', 'old', 'one', '.']\n"
          ],
          "name": "stdout"
        }
      ]
    }
  ]
}