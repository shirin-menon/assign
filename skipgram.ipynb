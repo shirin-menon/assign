{
  "nbformat": 4,
  "nbformat_minor": 0,
  "metadata": {
    "colab": {
      "name": "skipgram.ipynb",
      "provenance": [],
      "collapsed_sections": [],
      "authorship_tag": "ABX9TyPnzKqtso4iw0X/sVBCeSp0",
      "include_colab_link": true
    },
    "kernelspec": {
      "name": "python3",
      "display_name": "Python 3"
    }
  },
  "cells": [
    {
      "cell_type": "markdown",
      "metadata": {
        "id": "view-in-github",
        "colab_type": "text"
      },
      "source": [
        "<a href=\"https://colab.research.google.com/github/shirin-menon/assign/blob/main/skipgram.ipynb\" target=\"_parent\"><img src=\"https://colab.research.google.com/assets/colab-badge.svg\" alt=\"Open In Colab\"/></a>"
      ]
    },
    {
      "cell_type": "code",
      "metadata": {
        "id": "p7xeOlSJga16",
        "colab": {
          "base_uri": "https://localhost:8080/",
          "height": 140
        },
        "outputId": "ce7efe0a-5508-498b-abc8-ad48018b3929"
      },
      "source": [
        "import torch\r\n",
        "from torch.autograd import Variable\r\n",
        "import torch.nn.functional as F\r\n",
        "import nltk\r\n",
        "nltk.download('stopwords')\r\n",
        "from nltk.corpus import stopwords\r\n",
        "from sklearn import decomposition\r\n",
        "from pathlib import Path\r\n",
        "import seaborn as sns\r\n",
        "from matplotlib import pyplot as plt\r\n",
        "plt.rcParams['figure.figsize'] = (10,8)\r\n",
        "import numpy as np\r\n",
        "import pandas as pd\r\n",
        "\r\n",
        "corpus=[ 'drink water',\r\n",
        "        'drink juice',\r\n",
        "        'drink milkshake',\r\n",
        "        'eat snacks',\r\n",
        "        'eat food',\r\n",
        "        'eat rice',\r\n",
        "        'help old people',\r\n",
        "        'help kids',\r\n",
        "        'help everyone',\r\n",
        "        'she is a girl',\r\n",
        "        'he is a man',\r\n",
        "        'im a king',\r\n",
        "        'she is a guard',\r\n",
        "        'i like mango',\r\n",
        "        'i could use some help',\r\n",
        "        'i would like some juice',\r\n",
        "        'lotus is the national flower of india',\r\n",
        "        'tiger is the national animal of india',\r\n",
        "        'nepal is neighboring country of india'\r\n",
        "        ]\r\n",
        "def vocab_words(corpus):\r\n",
        "  vocabulary={}\r\n",
        "  i=0\r\n",
        "  for s in corpus:\r\n",
        "     for w in s.split():\r\n",
        "       if w not in vocabulary:\r\n",
        "         vocabulary[w]=i\r\n",
        "         i+=1\r\n",
        "  return vocabulary\r\n",
        "\r\n",
        "def create_set(corpus, n_gram=1):\r\n",
        "  columns=['Input'] + [f'Output{i+1}' for i in range(n_gram*2)]\r\n",
        "  res=pd.DataFrame(columns=columns)\r\n",
        "  for sentence in corpus:\r\n",
        "    for i,w in enumerate(sentence.split()):\r\n",
        "      inp=[w]\r\n",
        "      out=[]\r\n",
        "      for n in range(1, n_gram+1):\r\n",
        "        if (i-1)>=0:\r\n",
        "          out.append(sentence.split()[i-n])\r\n",
        "        else:\r\n",
        "          out.append('<padding>')\r\n",
        "        if (i+n)<len(sentence.split()):\r\n",
        "           out.append(sentence.split()[i+n])\r\n",
        "        else:\r\n",
        "           out.append('<padding>')\r\n",
        "    row = pd.DataFrame([inp+out], columns = columns)\r\n",
        "    res = res.append(row, ignore_index = True)\r\n",
        "  return res\r\n",
        "\r\n",
        "\r\n",
        "def prep_set_ravel(corpus, n_gram=1):\r\n",
        "   columns=['Input','Output']\r\n",
        "   res=pd.DataFrame(columns=columns)\r\n",
        "   for sentence in corpus:\r\n",
        "     for i,w in enumerate(sentence.split()):\r\n",
        "       inp=w\r\n",
        "       for n in range(1, n_gram+1):\r\n",
        "         if (i-n)>=0:\r\n",
        "           out=sentence.split()[i-n]\r\n",
        "           row = pd.DataFrame([[inp,out]], columns = columns)\r\n",
        "           res = res.append(row, ignore_index = True)\r\n",
        "\r\n",
        "         if (i+n)<len(sentence.split()):\r\n",
        "            out = sentence.split()[i+n]\r\n",
        "            row = pd.DataFrame([[inp,out]], columns = columns)\r\n",
        "            res = res.append(row, ignore_index = True)\r\n",
        "     return res\r\n",
        "\r\n",
        "stop_words=set(stopwords.words('english'))\r\n",
        "def preprocess(corpus):\r\n",
        "    result = []\r\n",
        "    for i in corpus:\r\n",
        "        out = nltk.word_tokenize(i)\r\n",
        "        out = [x.lower() for x in out]\r\n",
        "        out = [x for x in out if x not in stop_words]\r\n",
        "        result.append(\" \". join(out))\r\n",
        "    return result\r\n",
        "\r\n",
        "\r\n",
        "corpus = preprocess(corpus)\r\n",
        "corpus\r\n",
        "vocabulary = vocab_words(corpus)\r\n",
        "vocabulary\r\n",
        "train_emb = create_set(corpus, n_gram = 2)\r\n",
        "train_emb.head()\r\n",
        "train_emb = prep_set_ravel(corpus, n_gram = 2)\r\n",
        "train_emb.head()\r\n",
        "train_emb.Input = train_emb.Input.map(vocabulary)\r\n",
        "train_emb.Output = train_emb.Output.map(vocabulary)\r\n",
        "train_emb.head()\r\n",
        "\r\n"
      ],
      "execution_count": 11,
      "outputs": [
        {
          "output_type": "stream",
          "text": [
            "[nltk_data] Downloading package stopwords to /root/nltk_data...\n",
            "[nltk_data]   Package stopwords is already up-to-date!\n"
          ],
          "name": "stdout"
        },
        {
          "output_type": "execute_result",
          "data": {
            "text/html": [
              "<div>\n",
              "<style scoped>\n",
              "    .dataframe tbody tr th:only-of-type {\n",
              "        vertical-align: middle;\n",
              "    }\n",
              "\n",
              "    .dataframe tbody tr th {\n",
              "        vertical-align: top;\n",
              "    }\n",
              "\n",
              "    .dataframe thead th {\n",
              "        text-align: right;\n",
              "    }\n",
              "</style>\n",
              "<table border=\"1\" class=\"dataframe\">\n",
              "  <thead>\n",
              "    <tr style=\"text-align: right;\">\n",
              "      <th></th>\n",
              "      <th>Input</th>\n",
              "      <th>Output</th>\n",
              "    </tr>\n",
              "  </thead>\n",
              "  <tbody>\n",
              "    <tr>\n",
              "      <th>0</th>\n",
              "      <td>0</td>\n",
              "      <td>1</td>\n",
              "    </tr>\n",
              "    <tr>\n",
              "      <th>1</th>\n",
              "      <td>1</td>\n",
              "      <td>0</td>\n",
              "    </tr>\n",
              "  </tbody>\n",
              "</table>\n",
              "</div>"
            ],
            "text/plain": [
              "   Input  Output\n",
              "0      0       1\n",
              "1      1       0"
            ]
          },
          "metadata": {
            "tags": []
          },
          "execution_count": 11
        }
      ]
    },
    {
      "cell_type": "code",
      "metadata": {
        "id": "FrtuFoaKlweY"
      },
      "source": [
        ""
      ],
      "execution_count": null,
      "outputs": []
    }
  ]
}